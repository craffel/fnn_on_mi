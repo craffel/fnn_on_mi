{
 "metadata": {
  "name": ""
 },
 "nbformat": 3,
 "nbformat_minor": 0,
 "worksheets": [
  {
   "cells": [
    {
     "cell_type": "code",
     "collapsed": false,
     "input": [
      "from __future__ import print_function\n",
      "\n",
      "import sys\n",
      "import os\n",
      "import time\n",
      "\n",
      "import numpy as np\n",
      "import theano\n",
      "import theano.tensor as T\n",
      "\n",
      "import lasagne\n",
      "\n",
      "import random\n",
      "import h5py"
     ],
     "language": "python",
     "metadata": {},
     "outputs": [
      {
       "output_type": "stream",
       "stream": "stderr",
       "text": [
        "Using gpu device 0: GeForce GTX 960 (CNMeM is disabled)\n"
       ]
      }
     ],
     "prompt_number": 2
    },
    {
     "cell_type": "code",
     "collapsed": false,
     "input": [
      "def calc_mfcc(audio):\n",
      "    y,sr = librosa.load(audio,mono = True)\n",
      "    mfcc = librosa.feature.mfcc(y,sr,n_mfcc = 13, hop_length = int(0.01*sr))\n",
      "    return mfcc"
     ],
     "language": "python",
     "metadata": {},
     "outputs": [],
     "prompt_number": 55
    },
    {
     "cell_type": "code",
     "collapsed": false,
     "input": [
      "print(y)"
     ],
     "language": "python",
     "metadata": {},
     "outputs": [
      {
       "output_type": "stream",
       "stream": "stdout",
       "text": [
        "[ 0.00099452 -0.00027224  0.00014024 ...,  0.00238049  0.00037251\n",
        "  0.00258314]\n"
       ]
      }
     ],
     "prompt_number": 36
    },
    {
     "cell_type": "code",
     "collapsed": false,
     "input": [
      "## format data by mfcc from librosa\n",
      "import librosa\n",
      "data_dir = '/home/james/data/pymfcc'\n",
      "wav_dir = '/home/james/data/wav/data_round_1/'\n",
      "wav_files = os.listdir(wav_dir)\n",
      "for iw in wav_files:\n",
      "    w = os.path.join(wav_dir,iw)\n",
      "    print(w)\n",
      "    #mfcc = librosa.feature.mfcc(y,sr,n_mfcc = 13, hop_length = 0.01*sr, n_fft = 0.025*sr)\n",
      "    mfcc = calc_mfcc(w)\n",
      "    print( mfcc.shape)\n",
      "    break"
     ],
     "language": "python",
     "metadata": {},
     "outputs": [
      {
       "output_type": "stream",
       "stream": "stdout",
       "text": [
        "/home/james/data/wav/data_round_1/Pinscher_male_4_stand_FN_20151111_195151.wav\n",
        "(13, 405)"
       ]
      },
      {
       "output_type": "stream",
       "stream": "stdout",
       "text": [
        "\n"
       ]
      }
     ],
     "prompt_number": 63
    },
    {
     "cell_type": "code",
     "collapsed": false,
     "input": [
      "print(x.shape)"
     ],
     "language": "python",
     "metadata": {},
     "outputs": [
      {
       "output_type": "stream",
       "stream": "stdout",
       "text": [
        "(8062, 39)\n"
       ]
      }
     ],
     "prompt_number": 62
    },
    {
     "cell_type": "code",
     "collapsed": false,
     "input": [
      "x = readHTKfeat('../data/MFCC/MFCC_E_D_A_txt/Pinscher_male_4_stand_angry_20151111_195151.txt')"
     ],
     "language": "python",
     "metadata": {},
     "outputs": [],
     "prompt_number": 59
    },
    {
     "cell_type": "code",
     "collapsed": false,
     "input": [
      "print(mfcc.shape)\n",
      "plt.plot(mfcc[0:])"
     ],
     "language": "python",
     "metadata": {},
     "outputs": [
      {
       "ename": "ValueError",
       "evalue": "total size of new array must be unchanged",
       "output_type": "pyerr",
       "traceback": [
        "\u001b[0;31m---------------------------------------------------------------------------\u001b[0m\n\u001b[0;31mValueError\u001b[0m                                Traceback (most recent call last)",
        "\u001b[0;32m<ipython-input-54-31af3f47b414>\u001b[0m in \u001b[0;36m<module>\u001b[0;34m()\u001b[0m\n\u001b[1;32m      1\u001b[0m \u001b[0;32mprint\u001b[0m\u001b[0;34m(\u001b[0m\u001b[0mmfcc\u001b[0m\u001b[0;34m.\u001b[0m\u001b[0mshape\u001b[0m\u001b[0;34m)\u001b[0m\u001b[0;34m\u001b[0m\u001b[0m\n\u001b[0;32m----> 2\u001b[0;31m \u001b[0mplt\u001b[0m\u001b[0;34m.\u001b[0m\u001b[0mplot\u001b[0m\u001b[0;34m(\u001b[0m\u001b[0mmfcc\u001b[0m\u001b[0;34m[\u001b[0m\u001b[0;36m0\u001b[0m\u001b[0;34m:\u001b[0m\u001b[0;34m]\u001b[0m\u001b[0;34m.\u001b[0m\u001b[0mreshape\u001b[0m\u001b[0;34m(\u001b[0m\u001b[0;34m[\u001b[0m\u001b[0;36m0\u001b[0m\u001b[0;34m,\u001b[0m\u001b[0mmfcc\u001b[0m\u001b[0;34m.\u001b[0m\u001b[0mshape\u001b[0m\u001b[0;34m[\u001b[0m\u001b[0;36m1\u001b[0m\u001b[0;34m]\u001b[0m\u001b[0;34m]\u001b[0m\u001b[0;34m)\u001b[0m\u001b[0;34m)\u001b[0m\u001b[0;34m\u001b[0m\u001b[0m\n\u001b[0m",
        "\u001b[0;31mValueError\u001b[0m: total size of new array must be unchanged"
       ]
      },
      {
       "output_type": "stream",
       "stream": "stdout",
       "text": [
        "(13, 405)\n"
       ]
      }
     ],
     "prompt_number": 54
    },
    {
     "cell_type": "code",
     "collapsed": false,
     "input": [
      "import matplotlib.pyplot as plt\n",
      "%matplotlib inline"
     ],
     "language": "python",
     "metadata": {},
     "outputs": [],
     "prompt_number": 47
    },
    {
     "cell_type": "code",
     "collapsed": false,
     "input": [
      "def readHTKfeat(dataPath):\n",
      "    data = np.array([[]])\n",
      "    flagDataStart = 0\n",
      "    nLine = 0\n",
      "    i = -1\n",
      "    for line in open(dataPath,'r'):\n",
      "        if line.find('END') != -1:\n",
      "            return data\n",
      "        if flagDataStart:\n",
      "            if nLine == 0:\n",
      "                dataLine = np.array([float(x) for x in line.split()[1:]])\n",
      "                nLine = nLine + 1\n",
      "                i = i+1\n",
      "                continue\n",
      "            elif nLine in [1,2]:\n",
      "                dataLine = np.concatenate((dataLine,[float(x) for x in line.split()]))    \n",
      "                nLine = nLine + 1\n",
      "                continue\n",
      "            elif nLine == 3:\n",
      "                dataLine = np.concatenate((dataLine,[float(x) for x in line.split()]))\n",
      "                data[i,:] = dataLine\n",
      "                nLine = 0\n",
      "                continue\n",
      "                \n",
      "        if line.find('------------------------------------ Samples: 0->-1 ------------------------------------') != -1:\n",
      "            flagDataStart = 1\n",
      "   \n",
      "        if line.find('Num Samples') != -1:\n",
      "            nSamples = int(line.split()[2])\n",
      "            data = np.ndarray(shape=(nSamples,N_FEATURE_DIM))\n",
      "            flagDataStart= 0\n",
      "\n",
      "    return data"
     ],
     "language": "python",
     "metadata": {},
     "outputs": [],
     "prompt_number": 3
    },
    {
     "cell_type": "code",
     "collapsed": false,
     "input": [
      "## Setting\n",
      "\n",
      "# Number of units in the hidden (recurrent) layer\n",
      "N_HIDDEN = 10\n",
      "# Number of training sequences in each batch\n",
      "N_BATCH = 10\n",
      "# Optimization learning rate\n",
      "LEARNING_RATE = .001\n",
      "# All gradients above this will be clipped\n",
      "GRAD_CLIP = 100\n",
      "# How often should we check the output?\n",
      "EPOCH_SIZE = 1\n",
      "# Number of epochs to train the net\n",
      "NUM_EPOCHS = 100\n",
      "# Number of feature dimentions\n",
      "N_FEATURE_DIM = 39"
     ],
     "language": "python",
     "metadata": {},
     "outputs": [],
     "prompt_number": 4
    },
    {
     "cell_type": "code",
     "collapsed": false,
     "input": [
      "## load all feature into one single h5 file\n",
      "## !!!! depreciated  \n",
      "if False:\n",
      "    h5File = 'mfcc.h5'\n",
      "    if os.path.exists(h5File):\n",
      "        print('loading from h5 file...')\n",
      "        sys.stdout.write(\"\\033[F\")\n",
      "        f = h5py.File(h5File,'r')\n",
      "        X = f['X'][:]\n",
      "        Y = f['Y'][:]\n",
      "        mask = f['mask'][:]\n",
      "        N_SEQ = len(Y)\n",
      "        MAX_LENGTH=15000\n",
      "        f.close()\n",
      "        print('DONE')\n",
      "    else:\n",
      "        ## Load Feature\n",
      "        dataDir = '/home/james/data/MFCC/MFCC_E_D_A_txt/'\n",
      "        featDic = {}\n",
      "        dirList=os.listdir(dataDir)\n",
      "        for i in range(len(dirList)):\n",
      "            if i%100 == 0:\n",
      "                print('reading %d,'%i)\n",
      "            dataPath = os.path.join(dataDir,dirList[i])\n",
      "            try:\n",
      "                data = readHTKfeat(dataPath)\n",
      "                featDic.update({dirList[i]:data})\n",
      "            except:\n",
      "                print(dataPath)\n",
      "        print('Loading DONE')\n",
      "        ## Read label\n",
      "        lab = ['angry','sad','inneed','happy','alert','scary','nobark']\n",
      "        labDic = {}\n",
      "        for k in featDic:\n",
      "            for i,l in enumerate(lab):\n",
      "                if k.find(l) != -1:\n",
      "                    labDic[k] = i\n",
      "                    continue\n",
      "        ## Format Data\n",
      "        # Number of sequences\n",
      "        N_SEQ = len(labDic)\n",
      "        # Max sequence length\n",
      "        MAX_LENGTH = 15000\n",
      "        ## Format data into X Y and mask \n",
      "        X = np.zeros(shape=(N_SEQ, MAX_LENGTH, N_FEATURE_DIM))\n",
      "        mask = np.zeros((N_SEQ, MAX_LENGTH))\n",
      "        Y = np.zeros((N_SEQ,))\n",
      "        for i,k in enumerate(labDic):\n",
      "            X[i,0:len(featDic[k]),:] = featDic[k]\n",
      "            mask[i] = [1]*len(featDic[k])+[0]*(MAX_LENGTH-len(featDic[k]))\n",
      "            Y[i] = labDic[k]\n",
      "        Y = Y.astype('int32')\n",
      "        del featDic\n",
      "        del labDic\n",
      "        print('Formating data DONE')\n",
      "        ## Save Data\n",
      "        f = h5py.File('mfcc.h5','w')\n",
      "        f.create_dataset('X',data=X)\n",
      "        f.create_dataset('Y',data=Y)\n",
      "        f.create_dataset('mask',data=mask)\n",
      "        f.close()"
     ],
     "language": "python",
     "metadata": {},
     "outputs": [],
     "prompt_number": 5
    },
    {
     "cell_type": "code",
     "collapsed": false,
     "input": [
      "dataDir = '/home/james/data/MFCC/MFCC_E_D_A_txt/'\n",
      "dirList = os.listdir(dataDir)\n",
      "lab = ['angry','sad','inneed','happy','alert','scary','nobark']\n",
      "for ind,l in enumerate(lab):\n",
      "    print(dirList[i] )\n",
      "    if dirList[i].find(l) != -1:\n",
      "        Y = ind\n",
      "        continue\n",
      "print(Y)"
     ],
     "language": "python",
     "metadata": {},
     "outputs": [
      {
       "output_type": "stream",
       "stream": "stdout",
       "text": [
        "hikuma_female_0.5_stand_sad_20151025_162557.txt\n",
        "hikuma_female_0.5_stand_sad_20151025_162557.txt\n",
        "hikuma_female_0.5_stand_sad_20151025_162557.txt\n",
        "hikuma_female_0.5_stand_sad_20151025_162557.txt\n",
        "hikuma_female_0.5_stand_sad_20151025_162557.txt\n",
        "hikuma_female_0.5_stand_sad_20151025_162557.txt\n",
        "hikuma_female_0.5_stand_sad_20151025_162557.txt\n",
        "1\n"
       ]
      }
     ],
     "prompt_number": 27
    },
    {
     "cell_type": "code",
     "collapsed": false,
     "input": [
      "## Load Feature\n",
      "dataDir = '/home/james/data/MFCC/MFCC_E_D_A_txt/'\n",
      "saveDir = '/home/james/data/MFCC/MFCC_E_D_A_h5/'\n",
      "MAX_LENGTH = 15000\n",
      "\n",
      "if 1:\n",
      "    featDic = {}\n",
      "    dirList=os.listdir(dataDir)\n",
      "    for i in range(len(dirList)):\n",
      "        if i%100 == 0:\n",
      "            print('reading %d,'%i)\n",
      "        dataPath = os.path.join(dataDir,dirList[i])\n",
      "        try:\n",
      "            data = readHTKfeat(dataPath)\n",
      "            featDic.update({dirList[i]:data})\n",
      "        except:\n",
      "            print(dataPath)\n",
      "            continue\n",
      "        ## Read label\n",
      "        lab = ['angry','sad','inneed','happy','alert','scary','nobark']\n",
      "        for ind,l in enumerate(lab):\n",
      "            if dirList[i].find(l) != -1:\n",
      "                Y = ind\n",
      "                continue\n",
      "        ## Format Data\n",
      "        # Max sequence length\n",
      "        ## Format data into X Y and mask \n",
      "        X = np.zeros(shape=(1, MAX_LENGTH, N_FEATURE_DIM))\n",
      "        mask = np.zeros((1, MAX_LENGTH))\n",
      "        Y = np.array([Y]).astype('int32')\n",
      "        X[0,0:len(data),:] = data\n",
      "        mask[0] = [1]*len(data)+[0]*(MAX_LENGTH-len(data))\n",
      "        #Y = Y.astype('int32')\n",
      "        ## Save Data\n",
      "        f = h5py.File(os.path.join(saveDir,os.path.splitext(dirList[i])[0]+'.h5'),'w')\n",
      "        f.create_dataset('data',data=X)\n",
      "        f.create_dataset('label',data=Y)\n",
      "        f.create_dataset('mask',data=mask)\n",
      "        f.close()\n",
      "    #    print('Formating data DONE')"
     ],
     "language": "python",
     "metadata": {},
     "outputs": [
      {
       "output_type": "stream",
       "stream": "stdout",
       "text": [
        "reading 0,\n",
        "reading 100,"
       ]
      },
      {
       "output_type": "stream",
       "stream": "stdout",
       "text": [
        "\n",
        "/home/james/data/MFCC/MFCC_E_D_A_txt/poodle_male_0.6_stand_inneed_20150827_205512.txt"
       ]
      },
      {
       "output_type": "stream",
       "stream": "stdout",
       "text": [
        "\n",
        "reading 200,"
       ]
      },
      {
       "output_type": "stream",
       "stream": "stdout",
       "text": [
        "\n",
        "reading 300,"
       ]
      },
      {
       "output_type": "stream",
       "stream": "stdout",
       "text": [
        "\n",
        "reading 400,"
       ]
      },
      {
       "output_type": "stream",
       "stream": "stdout",
       "text": [
        "\n",
        "reading 500,"
       ]
      },
      {
       "output_type": "stream",
       "stream": "stdout",
       "text": [
        "\n",
        "reading 600,"
       ]
      },
      {
       "output_type": "stream",
       "stream": "stdout",
       "text": [
        "\n",
        "reading 700,"
       ]
      },
      {
       "output_type": "stream",
       "stream": "stdout",
       "text": [
        "\n",
        "reading 800,"
       ]
      },
      {
       "output_type": "stream",
       "stream": "stdout",
       "text": [
        "\n",
        "reading 900,"
       ]
      },
      {
       "output_type": "stream",
       "stream": "stdout",
       "text": [
        "\n",
        "reading 1000,"
       ]
      },
      {
       "output_type": "stream",
       "stream": "stdout",
       "text": [
        "\n"
       ]
      }
     ],
     "prompt_number": 28
    },
    {
     "cell_type": "code",
     "collapsed": false,
     "input": [
      "ff = 'test.h5'\n",
      "f = h5py.File(ff,'w')\n",
      "f.create_dataset('data',data=X)\n",
      "f.create_dataset('label',data=Y)\n",
      "f.create_dataset('mask',data=mask)\n",
      "f.close()\n",
      "ff = alaska_female_0.2_grovel_happy_20151002_190329.h5'\n",
      "f = h5py.File(ff)\n",
      "print(f['label'])"
     ],
     "language": "python",
     "metadata": {},
     "outputs": [
      {
       "output_type": "stream",
       "stream": "stdout",
       "text": [
        "<HDF5 dataset \"label\": shape (1,), type \"<i4\">\n"
       ]
      }
     ],
     "prompt_number": 22
    },
    {
     "cell_type": "code",
     "collapsed": false,
     "input": [
      "print(np.array(Y).astype('int32'))"
     ],
     "language": "python",
     "metadata": {},
     "outputs": [
      {
       "output_type": "stream",
       "stream": "stdout",
       "text": [
        "[3]\n"
       ]
      }
     ],
     "prompt_number": 20
    },
    {
     "cell_type": "code",
     "collapsed": false,
     "input": [
      "class data_generator():\n",
      "    def __init__(self,x,y,m,n_batch=N_BATCH,isShuffle = True):\n",
      "        import random\n",
      "        # data\n",
      "        self.x=x\n",
      "        self.y=y\n",
      "        self.m=m\n",
      "        self.n_batch = n_batch\n",
      "        # index\n",
      "        self.index = range(len(y))\n",
      "        if isShuffle:\n",
      "            random.shuffle(self.index)\n",
      "        self.used_index = []\n",
      "    def get_batch(self):\n",
      "        self.used_index = self.used_index + self.index[:self.n_batch]\n",
      "        minibatch = (self.x[self.index[:self.n_batch]],self.y[self.index[:self.n_batch]],self.m[self.index[:self.n_batch]])\n",
      "        self.index = self.index[self.n_batch:]\n",
      "        return minibatch"
     ],
     "language": "python",
     "metadata": {},
     "outputs": [],
     "prompt_number": 16
    },
    {
     "cell_type": "code",
     "collapsed": false,
     "input": [
      "class data_generator_from_h5():\n",
      "    # use this function to read minibatch from hard disk, in order to reduce memory usage\n",
      "    def __init__(self,file_list,n_batch=N_BATCH,isShuffle = True):\n",
      "        import random\n",
      "        # data\n",
      "        self.list = file_list\n",
      "        self.n_batch = n_batch\n",
      "        # index\n",
      "        self.index = range(len(file_list))\n",
      "        if isShuffle:\n",
      "            random.shuffle(self.index)\n",
      "        self.used_index = []\n",
      "        \n",
      "    def get_batch(self):\n",
      "        self.used_index = self.used_index + self.index[:self.n_batch]            \n",
      "        minibatch = read_from_list(self.list[self.index[:self.n_batch]])\n",
      "        self.index = self.index[self.n_batch:]\n",
      "        return minibatch"
     ],
     "language": "python",
     "metadata": {},
     "outputs": [],
     "prompt_number": 17
    },
    {
     "cell_type": "code",
     "collapsed": false,
     "input": [
      "def read_from_list(f_list):\n",
      "    for iFile in f_list:\n",
      "        f = h5py.File(iFile.strip())\n",
      "        if 'X' not in locals():\n",
      "            X = f['data'][:,2000:5000:,:]\n",
      "            Y = f['label'][:]\n",
      "            mask = f['mask'][:,2000:5000:]\n",
      "        else:\n",
      "            X = np.concatenate((X,f['data'][:,2000:5000:,:]),axis=0).astype('float32')\n",
      "            Y = np.concatenate((Y,f['label'][:]),axis=0).astype('float32')\n",
      "            mask = np.concatenate((mask,f['mask'][:,2000:5000:]),axis=0).astype('float32')\n",
      "        f.close()\n",
      "    return (X,Y,mask)"
     ],
     "language": "python",
     "metadata": {},
     "outputs": [],
     "prompt_number": 18
    },
    {
     "cell_type": "code",
     "collapsed": false,
     "input": [
      "# shuffle dataset\n",
      "dataList = np.array([os.path.join(saveDir,ifile) for ifile in os.listdir(saveDir)])\n",
      "N_SEQ = len(dataList)\n",
      "index = range(N_SEQ)\n",
      "random.shuffle(index)\n",
      "\n",
      "## split into train val test\n",
      "trainPortion,valPortion = [int(i*N_SEQ) for i in [0.7,0.8]]\n",
      "\n",
      "list_train = dataList[index[:trainPortion]]\n",
      "\n",
      "list_val = dataList[index[trainPortion:valPortion]]\n",
      "X_val,Y_val,mask_val = read_from_list(list_val)\n",
      "list_test = dataList[index[valPortion:]]\n",
      "X_test,Y_test,mask_test = read_from_list(list_test)"
     ],
     "language": "python",
     "metadata": {},
     "outputs": [],
     "prompt_number": 19
    },
    {
     "cell_type": "code",
     "collapsed": false,
     "input": [
      "print(\"Building network ...\")\n",
      "N_LSTM = 10\n",
      "N_DENSE = 10\n",
      "# First, we build the network, starting with an input layer\n",
      "# Recurrent layers expect input of shape\n",
      "# (batch size, max sequence length, number of features)\n",
      "l_in = lasagne.layers.InputLayer(shape=(N_BATCH, MAX_LENGTH, N_FEATURE_DIM))\n",
      "# The network also needs a way to provide a mask for each sequence.  We'll\n",
      "# use a separate input layer for that.  Since the mask only determines\n",
      "# which indices are part of the sequence for each batch entry, they are\n",
      "# supplied as matrices of dimensionality (N_BATCH, MAX_LENGTH)\n",
      "l_mask = lasagne.layers.InputLayer(shape=(N_BATCH, MAX_LENGTH))\n",
      "# Setting a value for grad_clipping will clip the gradients in the layer\n",
      "# Setting only_return_final=True makes the layers only return their output\n",
      "# for the final time step, which is all we need for this task\n",
      "\n",
      "#l_forward1 = lasagne.layers.LSTMLayer(l_in, N_LSTM, mask_input=l_mask,only_return_final=False)\n",
      "#l_forward2 = lasagne.layers.LSTMLayer(l_forward1, N_LSTM, mask_input=l_mask,only_return_final=False)\n",
      "#l_forward3 = lasagne.layers.LSTMLayer(l_forward2, N_LSTM, mask_input=l_mask,only_return_final=False)\n",
      "l_forward = lasagne.layers.LSTMLayer(l_in, N_LSTM, mask_input=l_mask,only_return_final=True)\n",
      "#l_forward = lasagne.layers.RecurrentLayer(\n",
      "#    l_in, N_HIDDEN, mask_input=l_mask, grad_clipping=GRAD_CLIP,\n",
      "#    W_in_to_hid=lasagne.init.HeUniform(),\n",
      "#    W_hid_to_hid=lasagne.init.HeUniform(),\n",
      "#    nonlinearity=lasagne.nonlinearities.tanh, only_return_final=True)\n",
      "\n",
      "#    l_backward = lasagne.layers.RecurrentLayer(\n",
      "#        l_in, N_HIDDEN, mask_input=l_mask, grad_clipping=GRAD_CLIP,\n",
      "#        W_in_to_hid=lasagne.init.HeUniform(),\n",
      "#        W_hid_to_hid=lasagne.init.HeUniform(),\n",
      "#        nonlinearity=lasagne.nonlinearities.tanh,\n",
      "#        only_return_final=True, backwards=True)\n",
      "#    # Now, we'll concatenate the outputs to combine them.\n",
      "#    l_concat = lasagne.layers.ConcatLayer([l_forward, l_backward])\n",
      "# Our output layer is a simple dense connection, with 1 output unit\n",
      "#l_dropout = lasagne.layers.dropout(l_forward)\n",
      "l_dense = lasagne.layers.DenseLayer(l_forward,num_units=N_DENSE)\n",
      "\n",
      "l_out = lasagne.layers.DenseLayer(\n",
      "    l_dense, num_units=6, nonlinearity=lasagne.nonlinearities.softmax)\n",
      "\n",
      "target_values = T.ivector('target_output')\n",
      "\n",
      "# lasagne.layers.get_output produces a variable for the output of the net\n",
      "network_output = lasagne.layers.get_output(l_out)\n",
      "\n",
      "# Our cost will be mean-squared error\n",
      "#cost = T.mean((predicted_values - target_values)**2)\n",
      "cost = lasagne.objectives.categorical_crossentropy(network_output,target_values)\n",
      "cost = cost.mean()\n",
      "# Retrieve all parameters from the network\n",
      "all_params = lasagne.layers.get_all_params(l_out)\n",
      "# Compute SGD updates for training\n",
      "print(\"Computing updates ...\")\n",
      "updates = lasagne.updates.adagrad(cost, all_params, LEARNING_RATE)\n",
      "# Theano functions for training and computing cost\n",
      "print(\"Compiling functions ...\")\n",
      "train = theano.function([l_in.input_var, target_values, l_mask.input_var],\n",
      "                        cost, updates=updates,allow_input_downcast=True)\n",
      "compute_cost = theano.function(\n",
      "    [l_in.input_var, target_values, l_mask.input_var], cost,allow_input_downcast=True)\n",
      "get_output = theano.function(\n",
      "    [l_in.input_var, l_mask.input_var], lasagne.layers.get_output(l_out, deterministic=True),allow_input_downcast=True)\n",
      "print(\"Building network ... DONE\")"
     ],
     "language": "python",
     "metadata": {},
     "outputs": [
      {
       "output_type": "stream",
       "stream": "stdout",
       "text": [
        "Building network ...\n",
        "Computing updates ...\n",
        "Compiling functions ..."
       ]
      },
      {
       "output_type": "stream",
       "stream": "stdout",
       "text": [
        "\n",
        "Building network ... DONE"
       ]
      },
      {
       "output_type": "stream",
       "stream": "stdout",
       "text": [
        "\n"
       ]
      },
      {
       "output_type": "stream",
       "stream": "stderr",
       "text": [
        "/home/james/Download/Theano/theano/scan_module/scan.py:1019: Warning: In the strict mode, all neccessary shared variables must be passed as a part of non_sequences\n",
        "  'must be passed as a part of non_sequences', Warning)\n"
       ]
      }
     ],
     "prompt_number": 20
    },
    {
     "cell_type": "code",
     "collapsed": false,
     "input": [
      "def early_stop(valArray,NOT_BETTER_NUM = 10):\n",
      "    if len(valArray) < NOT_BETTER_NUM:\n",
      "        return False\n",
      "    else:\n",
      "        length = len(valArray)\n",
      "        for i,n in enumerate(valArray[length-NOT_BETTER_NUM:-2]):\n",
      "            if valArray[i]>valArray[i+1]:\n",
      "                return False\n",
      "    return True"
     ],
     "language": "python",
     "metadata": {},
     "outputs": [],
     "prompt_number": 11
    },
    {
     "cell_type": "code",
     "collapsed": false,
     "input": [
      "compute_cost = theano.function(\n",
      "    [l_in.input_var, target_values, l_mask.input_var], cost,allow_input_downcast=True)\n",
      "#cost_val = compute_cost(X_val, Y_val, mask_val)\n",
      "get_output(X_val,mask_val)"
     ],
     "language": "python",
     "metadata": {},
     "outputs": [
      {
       "metadata": {},
       "output_type": "pyout",
       "prompt_number": 23,
       "text": [
        "array([[ 0.18719068,  0.12619214,  0.14462791,  0.24648456,  0.15334494,\n",
        "         0.14215982],\n",
        "       [ 0.19088306,  0.12881672,  0.13425639,  0.25598368,  0.14902689,\n",
        "         0.14103323],\n",
        "       [ 0.16588008,  0.15073344,  0.1644437 ,  0.19016619,  0.17589314,\n",
        "         0.15288343],\n",
        "       [ 0.15109766,  0.16754988,  0.1700398 ,  0.17701285,  0.18664017,\n",
        "         0.14765964],\n",
        "       [ 0.12900321,  0.11445776,  0.14653812,  0.22084114,  0.22504523,\n",
        "         0.16411446],\n",
        "       [ 0.17648733,  0.14885587,  0.14188303,  0.23193055,  0.16758566,\n",
        "         0.13325757],\n",
        "       [ 0.12136336,  0.12083496,  0.15264288,  0.24852908,  0.23219682,\n",
        "         0.12443297],\n",
        "       [ 0.17743975,  0.13625811,  0.14443606,  0.22766444,  0.16865979,\n",
        "         0.1455418 ],\n",
        "       [ 0.1104823 ,  0.14774087,  0.15759221,  0.19768302,  0.22803316,\n",
        "         0.15846854],\n",
        "       [ 0.16092335,  0.11640099,  0.16353717,  0.25373   ,  0.17183067,\n",
        "         0.13357779],\n",
        "       [ 0.14135982,  0.129851  ,  0.1502412 ,  0.20784013,  0.19677633,\n",
        "         0.17393155],\n",
        "       [ 0.12882575,  0.12082424,  0.18056785,  0.23146226,  0.19301175,\n",
        "         0.14530814],\n",
        "       [ 0.18239592,  0.15029605,  0.10448132,  0.31735134,  0.15554069,\n",
        "         0.08993466],\n",
        "       [ 0.14385365,  0.15695965,  0.16991253,  0.18137451,  0.19934317,\n",
        "         0.14855646],\n",
        "       [ 0.22199906,  0.12221397,  0.15976305,  0.23981316,  0.10652662,\n",
        "         0.14968415],\n",
        "       [ 0.17753296,  0.13633308,  0.15922394,  0.22467351,  0.14630775,\n",
        "         0.15592873],\n",
        "       [ 0.14491245,  0.16798669,  0.1773605 ,  0.17293234,  0.20577632,\n",
        "         0.13103166],\n",
        "       [ 0.15471397,  0.14016342,  0.14831693,  0.21700551,  0.17674768,\n",
        "         0.1630525 ],\n",
        "       [ 0.21391059,  0.12888952,  0.11777769,  0.28332785,  0.13484035,\n",
        "         0.12125394],\n",
        "       [ 0.14637783,  0.17739633,  0.17921805,  0.166035  ,  0.19038589,\n",
        "         0.14058679],\n",
        "       [ 0.15115288,  0.16557252,  0.17150711,  0.16649947,  0.18032388,\n",
        "         0.16494417],\n",
        "       [ 0.18096706,  0.14965874,  0.14984401,  0.20385689,  0.1498743 ,\n",
        "         0.16579904],\n",
        "       [ 0.13881372,  0.132641  ,  0.13365555,  0.22753815,  0.16467239,\n",
        "         0.20267916],\n",
        "       [ 0.14615738,  0.17511778,  0.16068742,  0.19464415,  0.19914714,\n",
        "         0.1242461 ],\n",
        "       [ 0.20014125,  0.14200336,  0.14392351,  0.22232786,  0.14898686,\n",
        "         0.14261718],\n",
        "       [ 0.19078906,  0.14641006,  0.14630407,  0.22028159,  0.1554268 ,\n",
        "         0.14078841],\n",
        "       [ 0.13147379,  0.12127654,  0.12733489,  0.28046143,  0.21237025,\n",
        "         0.12708309],\n",
        "       [ 0.1261524 ,  0.17129123,  0.17936563,  0.16130291,  0.22227371,\n",
        "         0.13961408],\n",
        "       [ 0.15463571,  0.16337474,  0.1685936 ,  0.16909328,  0.17566288,\n",
        "         0.1686397 ],\n",
        "       [ 0.15167342,  0.15629712,  0.15234138,  0.19261369,  0.1925344 ,\n",
        "         0.15453999],\n",
        "       [ 0.23636477,  0.12299711,  0.12050754,  0.27275062,  0.12380077,\n",
        "         0.12357922],\n",
        "       [ 0.1582838 ,  0.12907642,  0.18120106,  0.19506153,  0.18302323,\n",
        "         0.15335399],\n",
        "       [ 0.13056061,  0.1618689 ,  0.17855737,  0.16617171,  0.19988504,\n",
        "         0.16295637],\n",
        "       [ 0.1536313 ,  0.14041822,  0.15764204,  0.19344689,  0.18506445,\n",
        "         0.16979711],\n",
        "       [ 0.09634088,  0.14222668,  0.15211128,  0.20502695,  0.2560997 ,\n",
        "         0.14819455],\n",
        "       [ 0.13228321,  0.1609973 ,  0.16470221,  0.19279756,  0.20955957,\n",
        "         0.13966015],\n",
        "       [ 0.16670343,  0.14693761,  0.16313809,  0.19593924,  0.17613614,\n",
        "         0.15114546],\n",
        "       [ 0.13094737,  0.17596187,  0.17782661,  0.16689388,  0.22050992,\n",
        "         0.12786028],\n",
        "       [ 0.13824442,  0.16466111,  0.17614613,  0.16660407,  0.19601013,\n",
        "         0.15833408],\n",
        "       [ 0.15180889,  0.14347155,  0.14766793,  0.20754316,  0.18688443,\n",
        "         0.162624  ],\n",
        "       [ 0.16110592,  0.12955658,  0.12572718,  0.26483175,  0.16258754,\n",
        "         0.15619102],\n",
        "       [ 0.20085736,  0.14127816,  0.14090432,  0.23138505,  0.14820907,\n",
        "         0.13736606],\n",
        "       [ 0.15534739,  0.17404172,  0.173858  ,  0.15945223,  0.18139781,\n",
        "         0.15590282],\n",
        "       [ 0.19006489,  0.14720741,  0.13676032,  0.24855094,  0.15045361,\n",
        "         0.12696275],\n",
        "       [ 0.18599115,  0.15618645,  0.15842751,  0.21765545,  0.12709849,\n",
        "         0.15464099],\n",
        "       [ 0.16784593,  0.16734764,  0.15113659,  0.21202524,  0.174753  ,\n",
        "         0.12689163],\n",
        "       [ 0.15595718,  0.14935675,  0.15564406,  0.19422302,  0.18409556,\n",
        "         0.16072345],\n",
        "       [ 0.08283577,  0.141587  ,  0.1647945 ,  0.17055532,  0.28553414,\n",
        "         0.15469322],\n",
        "       [ 0.11254981,  0.12025469,  0.15778936,  0.2152686 ,  0.25057873,\n",
        "         0.14355874],\n",
        "       [ 0.19305788,  0.13647643,  0.14871101,  0.22544621,  0.14733209,\n",
        "         0.14897637],\n",
        "       [ 0.15510002,  0.16598037,  0.1700764 ,  0.17001225,  0.17519562,\n",
        "         0.16363533],\n",
        "       [ 0.14086454,  0.15812689,  0.17268419,  0.17157328,  0.18558758,\n",
        "         0.17116351],\n",
        "       [ 0.11914927,  0.1267954 ,  0.13990624,  0.24601726,  0.19159795,\n",
        "         0.17653391],\n",
        "       [ 0.12910011,  0.14190575,  0.14559051,  0.21085411,  0.1855047 ,\n",
        "         0.18704483],\n",
        "       [ 0.13794287,  0.1655416 ,  0.17612699,  0.17373416,  0.20005651,\n",
        "         0.14659782],\n",
        "       [ 0.20367871,  0.15614374,  0.16061679,  0.21873869,  0.12424902,\n",
        "         0.13657308],\n",
        "       [ 0.14493157,  0.1637167 ,  0.17028348,  0.16855408,  0.18602757,\n",
        "         0.16648659],\n",
        "       [ 0.13244717,  0.16117758,  0.1665647 ,  0.18874103,  0.21207045,\n",
        "         0.13899902],\n",
        "       [ 0.14518023,  0.12909403,  0.12588604,  0.24564722,  0.15643157,\n",
        "         0.19776094],\n",
        "       [ 0.13866711,  0.16025494,  0.14727834,  0.19557831,  0.21275261,\n",
        "         0.14546868],\n",
        "       [ 0.10519239,  0.14477056,  0.17934182,  0.16201946,  0.26298237,\n",
        "         0.14569339],\n",
        "       [ 0.15089068,  0.16463733,  0.16941591,  0.17803913,  0.19132702,\n",
        "         0.14568995],\n",
        "       [ 0.1268854 ,  0.16472001,  0.18915719,  0.16787413,  0.18676664,\n",
        "         0.16459656],\n",
        "       [ 0.17192487,  0.13726082,  0.12315552,  0.27479619,  0.16005601,\n",
        "         0.13280655],\n",
        "       [ 0.24672581,  0.12780978,  0.13414761,  0.28180832,  0.08956255,\n",
        "         0.11994594],\n",
        "       [ 0.16863328,  0.15179732,  0.16151142,  0.19536832,  0.17355286,\n",
        "         0.14913674],\n",
        "       [ 0.17731324,  0.16605364,  0.14123888,  0.23395184,  0.16847792,\n",
        "         0.11296448],\n",
        "       [ 0.13084297,  0.1719815 ,  0.17964934,  0.16158356,  0.21694328,\n",
        "         0.13899937],\n",
        "       [ 0.10931853,  0.1395124 ,  0.16917613,  0.20101407,  0.23909664,\n",
        "         0.14188214],\n",
        "       [ 0.15262786,  0.15949367,  0.17322583,  0.17921397,  0.19426203,\n",
        "         0.14117667],\n",
        "       [ 0.21373186,  0.12753366,  0.12603128,  0.26482111,  0.13040189,\n",
        "         0.13748023],\n",
        "       [ 0.138071  ,  0.13990191,  0.16005176,  0.18973748,  0.20102033,\n",
        "         0.17121749],\n",
        "       [ 0.16044851,  0.16384462,  0.15030101,  0.19647761,  0.17313428,\n",
        "         0.15579401],\n",
        "       [ 0.12456962,  0.15392642,  0.16789329,  0.18250325,  0.21951365,\n",
        "         0.15159376],\n",
        "       [ 0.17650452,  0.16013959,  0.14718157,  0.22804594,  0.16997011,\n",
        "         0.11815829],\n",
        "       [ 0.18306699,  0.16338128,  0.1671747 ,  0.20403419,  0.12979859,\n",
        "         0.15254416],\n",
        "       [ 0.16713592,  0.13299349,  0.1536964 ,  0.20264126,  0.1738361 ,\n",
        "         0.16969682],\n",
        "       [ 0.11114103,  0.1399235 ,  0.14265582,  0.18779248,  0.20604512,\n",
        "         0.21244204],\n",
        "       [ 0.24621511,  0.11914325,  0.12451117,  0.25814512,  0.11480043,\n",
        "         0.13718498],\n",
        "       [ 0.17988649,  0.15265925,  0.14700483,  0.22802651,  0.16517885,\n",
        "         0.12724409],\n",
        "       [ 0.1691941 ,  0.1597759 ,  0.15897751,  0.19929533,  0.1745255 ,\n",
        "         0.13823174],\n",
        "       [ 0.19647354,  0.14309257,  0.14167148,  0.22957882,  0.15019517,\n",
        "         0.13898841],\n",
        "       [ 0.14581816,  0.15350577,  0.17789546,  0.17951207,  0.17139219,\n",
        "         0.17187637],\n",
        "       [ 0.15522033,  0.16983154,  0.16166958,  0.17658775,  0.18159282,\n",
        "         0.15509793],\n",
        "       [ 0.10058331,  0.12140778,  0.18502507,  0.21414171,  0.26128933,\n",
        "         0.11755275],\n",
        "       [ 0.17881022,  0.10410676,  0.13166329,  0.32825157,  0.1219274 ,\n",
        "         0.13524082],\n",
        "       [ 0.12763923,  0.17176437,  0.17870116,  0.16089189,  0.21897084,\n",
        "         0.14203243],\n",
        "       [ 0.17411695,  0.13756369,  0.15605746,  0.199287  ,  0.17270669,\n",
        "         0.16026822],\n",
        "       [ 0.13190831,  0.17702706,  0.16862647,  0.17632493,  0.21369502,\n",
        "         0.13241813],\n",
        "       [ 0.15780884,  0.15222993,  0.15692946,  0.18777891,  0.17025769,\n",
        "         0.17499521],\n",
        "       [ 0.12581785,  0.1754315 ,  0.17709103,  0.16792549,  0.22718824,\n",
        "         0.12654597],\n",
        "       [ 0.15585798,  0.16260536,  0.15624416,  0.18279706,  0.18446977,\n",
        "         0.15802574],\n",
        "       [ 0.1258429 ,  0.14349991,  0.17056876,  0.18285625,  0.19835317,\n",
        "         0.17887911],\n",
        "       [ 0.12951463,  0.10950123,  0.15912792,  0.22853839,  0.19255157,\n",
        "         0.18076627],\n",
        "       [ 0.17793521,  0.13227957,  0.11430065,  0.29765806,  0.11635587,\n",
        "         0.16147062],\n",
        "       [ 0.17221901,  0.13659202,  0.16706127,  0.19310163,  0.16786879,\n",
        "         0.16315728],\n",
        "       [ 0.20607457,  0.13310328,  0.13815908,  0.24035214,  0.14138259,\n",
        "         0.14092836],\n",
        "       [ 0.14833429,  0.12258229,  0.17227998,  0.24509624,  0.18269953,\n",
        "         0.12900768],\n",
        "       [ 0.1765897 ,  0.14540286,  0.13942137,  0.23988   ,  0.16800082,\n",
        "         0.13070522],\n",
        "       [ 0.15613212,  0.12915862,  0.1817472 ,  0.19443935,  0.183979  ,\n",
        "         0.1545437 ],\n",
        "       [ 0.16393098,  0.12627482,  0.15076236,  0.2455873 ,  0.17768656,\n",
        "         0.13575795],\n",
        "       [ 0.13319421,  0.16926694,  0.15580268,  0.1803032 ,  0.21685107,\n",
        "         0.14458197]], dtype=float32)"
       ]
      }
     ],
     "prompt_number": 23
    },
    {
     "cell_type": "code",
     "collapsed": false,
     "input": [
      "# We'll use this \"validation set\" to periodically check progress\n",
      "print(\"Training ...\")\n",
      "print(time.strftime('%X %x %Z'))\n",
      "earlyStop=0\n",
      "costTrainArray = []\n",
      "costValArray = []\n",
      "hitTestArray = []\n",
      "\n",
      "try:\n",
      "    EPOCH_SIZE = len(list_train)/N_BATCH\n",
      "    for epoch in range(NUM_EPOCHS):\n",
      "        data = data_generator_from_h5(list_train,isShuffle=True)\n",
      "        cost_train = 0\n",
      "        for _ in range(EPOCH_SIZE):\n",
      "            X_batch, Y_batch, m_batch = data.get_batch()\n",
      "#            print(X_batch.shape,Y_batch.shape,m_batch.shape)\n",
      "            train(X_batch, Y_batch, m_batch)\n",
      "            cost_batch = compute_cost(X_batch, Y_batch, m_batch)\n",
      "            print(\"{} minibatch cost = {}\".format(_,cost_batch))\n",
      "        cost_val = compute_cost(X_val, Y_val, mask_val)\n",
      "        cost_train = cost_train + cost_batch\n",
      "        output = get_output(X_test,mask_test)\n",
      "        val_predictions = np.argmax(output, axis=1)\n",
      "        hit = np.sum(val_predictions == Y_test)\n",
      "        \n",
      "        print(\"Epoch {} train cost = {}\".format(epoch, cost_train))\n",
      "        print(\"Epoch {} validation cost = {}\".format(epoch, cost_val))\n",
      "        print(\"Epoch {} correctly predicted {} out of {}\".format(epoch, hit,len(Y_test)))\n",
      "        print(time.strftime('%X %x %Z'))\n",
      "        costTrainArray.append(cost_train)\n",
      "        costValArray.append(cost_val)\n",
      "        hitTestArray.append(hit)\n",
      "        \n",
      "        earlyStop = early_stop(costValArray)\n",
      "        if earlyStop:\n",
      "            break\n",
      "except KeyboardInterrupt:\n",
      "    pass"
     ],
     "language": "python",
     "metadata": {},
     "outputs": [
      {
       "output_type": "stream",
       "stream": "stdout",
       "text": [
        "Training ...\n",
        "14:38:07 01/08/16 CST\n",
        "0 minibatch cost = 1.92166543007"
       ]
      },
      {
       "output_type": "stream",
       "stream": "stdout",
       "text": [
        "\n",
        "1 minibatch cost = 2.06399464607"
       ]
      },
      {
       "output_type": "stream",
       "stream": "stdout",
       "text": [
        "\n",
        "2 minibatch cost = 1.9095916748"
       ]
      },
      {
       "output_type": "stream",
       "stream": "stdout",
       "text": [
        "\n",
        "3 minibatch cost = 1.88021278381"
       ]
      },
      {
       "output_type": "stream",
       "stream": "stdout",
       "text": [
        "\n",
        "4 minibatch cost = 1.97187650204"
       ]
      },
      {
       "output_type": "stream",
       "stream": "stdout",
       "text": [
        "\n",
        "5 minibatch cost = 1.91421282291"
       ]
      },
      {
       "output_type": "stream",
       "stream": "stdout",
       "text": [
        "\n",
        "6 minibatch cost = 1.94635128975"
       ]
      },
      {
       "output_type": "stream",
       "stream": "stdout",
       "text": [
        "\n",
        "7 minibatch cost = 1.9360640049"
       ]
      },
      {
       "output_type": "stream",
       "stream": "stdout",
       "text": [
        "\n",
        "8 minibatch cost = 1.89717292786"
       ]
      },
      {
       "output_type": "stream",
       "stream": "stdout",
       "text": [
        "\n",
        "9 minibatch cost = 1.7927210331"
       ]
      },
      {
       "output_type": "stream",
       "stream": "stdout",
       "text": [
        "\n",
        "10 minibatch cost = 1.92587161064"
       ]
      },
      {
       "output_type": "stream",
       "stream": "stdout",
       "text": [
        "\n",
        "11 minibatch cost = 1.82625079155"
       ]
      },
      {
       "output_type": "stream",
       "stream": "stdout",
       "text": [
        "\n",
        "12 minibatch cost = 1.9162914753"
       ]
      },
      {
       "output_type": "stream",
       "stream": "stdout",
       "text": [
        "\n",
        "13 minibatch cost = 1.87323129177"
       ]
      },
      {
       "output_type": "stream",
       "stream": "stdout",
       "text": [
        "\n",
        "14 minibatch cost = 1.87538838387"
       ]
      },
      {
       "output_type": "stream",
       "stream": "stdout",
       "text": [
        "\n",
        "15 minibatch cost = 1.95891594887"
       ]
      },
      {
       "output_type": "stream",
       "stream": "stdout",
       "text": [
        "\n",
        "16 minibatch cost = 1.89642179012"
       ]
      },
      {
       "output_type": "stream",
       "stream": "stdout",
       "text": [
        "\n",
        "17 minibatch cost = 1.90544354916"
       ]
      },
      {
       "output_type": "stream",
       "stream": "stdout",
       "text": [
        "\n",
        "18 minibatch cost = 1.85503256321"
       ]
      },
      {
       "output_type": "stream",
       "stream": "stdout",
       "text": [
        "\n",
        "19 minibatch cost = 1.94594442844"
       ]
      },
      {
       "output_type": "stream",
       "stream": "stdout",
       "text": [
        "\n",
        "20 minibatch cost = 1.84955215454"
       ]
      },
      {
       "output_type": "stream",
       "stream": "stdout",
       "text": [
        "\n",
        "21 minibatch cost = 1.94947314262"
       ]
      },
      {
       "output_type": "stream",
       "stream": "stdout",
       "text": [
        "\n",
        "22 minibatch cost = 1.8504588604"
       ]
      },
      {
       "output_type": "stream",
       "stream": "stdout",
       "text": [
        "\n",
        "23 minibatch cost = 1.80116176605"
       ]
      },
      {
       "output_type": "stream",
       "stream": "stdout",
       "text": [
        "\n",
        "24 minibatch cost = 1.82672190666"
       ]
      },
      {
       "output_type": "stream",
       "stream": "stdout",
       "text": [
        "\n",
        "25 minibatch cost = 1.8279106617"
       ]
      },
      {
       "output_type": "stream",
       "stream": "stdout",
       "text": [
        "\n",
        "26 minibatch cost = 1.86690485477"
       ]
      },
      {
       "output_type": "stream",
       "stream": "stdout",
       "text": [
        "\n",
        "27 minibatch cost = 1.8053123951"
       ]
      },
      {
       "output_type": "stream",
       "stream": "stdout",
       "text": [
        "\n",
        "28 minibatch cost = 1.91318511963"
       ]
      },
      {
       "output_type": "stream",
       "stream": "stdout",
       "text": [
        "\n",
        "29 minibatch cost = 1.83006072044"
       ]
      },
      {
       "output_type": "stream",
       "stream": "stdout",
       "text": [
        "\n",
        "30 minibatch cost = 1.83246457577"
       ]
      },
      {
       "output_type": "stream",
       "stream": "stdout",
       "text": [
        "\n",
        "31 minibatch cost = 1.77854883671"
       ]
      },
      {
       "output_type": "stream",
       "stream": "stdout",
       "text": [
        "\n",
        "32 minibatch cost = 1.83481788635"
       ]
      },
      {
       "output_type": "stream",
       "stream": "stdout",
       "text": [
        "\n",
        "33 minibatch cost = 1.79409253597"
       ]
      },
      {
       "output_type": "stream",
       "stream": "stdout",
       "text": [
        "\n",
        "34 minibatch cost = 1.78173983097"
       ]
      },
      {
       "output_type": "stream",
       "stream": "stdout",
       "text": [
        "\n",
        "35 minibatch cost = 1.88983225822"
       ]
      },
      {
       "output_type": "stream",
       "stream": "stdout",
       "text": [
        "\n",
        "36 minibatch cost = 1.88599848747"
       ]
      },
      {
       "output_type": "stream",
       "stream": "stdout",
       "text": [
        "\n",
        "37 minibatch cost = 1.78162157536"
       ]
      },
      {
       "output_type": "stream",
       "stream": "stdout",
       "text": [
        "\n",
        "38 minibatch cost = 1.74496996403"
       ]
      },
      {
       "output_type": "stream",
       "stream": "stdout",
       "text": [
        "\n",
        "39 minibatch cost = 1.79948711395"
       ]
      },
      {
       "output_type": "stream",
       "stream": "stdout",
       "text": [
        "\n",
        "40 minibatch cost = 1.80869066715"
       ]
      },
      {
       "output_type": "stream",
       "stream": "stdout",
       "text": [
        "\n",
        "41 minibatch cost = 1.92045855522"
       ]
      },
      {
       "output_type": "stream",
       "stream": "stdout",
       "text": [
        "\n",
        "42 minibatch cost = 1.87048411369"
       ]
      },
      {
       "output_type": "stream",
       "stream": "stdout",
       "text": [
        "\n",
        "43 minibatch cost = 1.80188333988"
       ]
      },
      {
       "output_type": "stream",
       "stream": "stdout",
       "text": [
        "\n",
        "44 minibatch cost = 1.90062844753"
       ]
      },
      {
       "output_type": "stream",
       "stream": "stdout",
       "text": [
        "\n",
        "45 minibatch cost = 1.76876354218"
       ]
      },
      {
       "output_type": "stream",
       "stream": "stdout",
       "text": [
        "\n",
        "46 minibatch cost = 1.77026581764"
       ]
      },
      {
       "output_type": "stream",
       "stream": "stdout",
       "text": [
        "\n",
        "47 minibatch cost = 1.78717935085"
       ]
      },
      {
       "output_type": "stream",
       "stream": "stdout",
       "text": [
        "\n",
        "48 minibatch cost = 1.82569563389"
       ]
      },
      {
       "output_type": "stream",
       "stream": "stdout",
       "text": [
        "\n",
        "49 minibatch cost = 1.73977398872"
       ]
      },
      {
       "output_type": "stream",
       "stream": "stdout",
       "text": [
        "\n",
        "50 minibatch cost = 1.77612268925"
       ]
      },
      {
       "output_type": "stream",
       "stream": "stdout",
       "text": [
        "\n",
        "51 minibatch cost = 1.83244287968"
       ]
      },
      {
       "output_type": "stream",
       "stream": "stdout",
       "text": [
        "\n",
        "52 minibatch cost = 1.85146784782"
       ]
      },
      {
       "output_type": "stream",
       "stream": "stdout",
       "text": [
        "\n",
        "53 minibatch cost = 1.76228499413"
       ]
      },
      {
       "output_type": "stream",
       "stream": "stdout",
       "text": [
        "\n",
        "54 minibatch cost = 1.7709980011"
       ]
      },
      {
       "output_type": "stream",
       "stream": "stdout",
       "text": [
        "\n",
        "55 minibatch cost = 1.65630567074"
       ]
      },
      {
       "output_type": "stream",
       "stream": "stdout",
       "text": [
        "\n",
        "56 minibatch cost = 1.78281462193"
       ]
      },
      {
       "output_type": "stream",
       "stream": "stdout",
       "text": [
        "\n",
        "57 minibatch cost = 1.69436681271"
       ]
      },
      {
       "output_type": "stream",
       "stream": "stdout",
       "text": [
        "\n",
        "58 minibatch cost = 1.75912058353"
       ]
      },
      {
       "output_type": "stream",
       "stream": "stdout",
       "text": [
        "\n",
        "59 minibatch cost = 1.72833955288"
       ]
      },
      {
       "output_type": "stream",
       "stream": "stdout",
       "text": [
        "\n",
        "60 minibatch cost = 1.75892138481"
       ]
      },
      {
       "output_type": "stream",
       "stream": "stdout",
       "text": [
        "\n",
        "61 minibatch cost = 1.7653080225"
       ]
      },
      {
       "output_type": "stream",
       "stream": "stdout",
       "text": [
        "\n",
        "62 minibatch cost = 1.82705593109"
       ]
      },
      {
       "output_type": "stream",
       "stream": "stdout",
       "text": [
        "\n",
        "63 minibatch cost = 1.82535099983"
       ]
      },
      {
       "output_type": "stream",
       "stream": "stdout",
       "text": [
        "\n",
        "64 minibatch cost = 1.74485182762"
       ]
      },
      {
       "output_type": "stream",
       "stream": "stdout",
       "text": [
        "\n",
        "65 minibatch cost = 1.67164647579"
       ]
      },
      {
       "output_type": "stream",
       "stream": "stdout",
       "text": [
        "\n",
        "66 minibatch cost = 1.74354100227"
       ]
      },
      {
       "output_type": "stream",
       "stream": "stdout",
       "text": [
        "\n",
        "67 minibatch cost = 1.76374316216"
       ]
      },
      {
       "output_type": "stream",
       "stream": "stdout",
       "text": [
        "\n",
        "68 minibatch cost = 1.79512560368"
       ]
      },
      {
       "output_type": "stream",
       "stream": "stdout",
       "text": [
        "\n",
        "69 minibatch cost = 1.78101885319"
       ]
      },
      {
       "output_type": "stream",
       "stream": "stdout",
       "text": [
        "\n",
        "70 minibatch cost = 1.66430974007"
       ]
      }
     ],
     "prompt_number": "*"
    },
    {
     "cell_type": "code",
     "collapsed": false,
     "input": [
      "out_train = get_output(X,mask_train)"
     ],
     "language": "python",
     "metadata": {},
     "outputs": [],
     "prompt_number": 23
    },
    {
     "cell_type": "code",
     "collapsed": false,
     "input": [
      "train_predictions = np.argmax(out_train, axis=1)\n",
      "hit = np.sum(train_predictions == Y_train)\n",
      "print (hit,len(Y_train))"
     ],
     "language": "python",
     "metadata": {},
     "outputs": [
      {
       "output_type": "stream",
       "stream": "stdout",
       "text": [
        "127 714\n"
       ]
      }
     ],
     "prompt_number": 28
    },
    {
     "cell_type": "code",
     "collapsed": false,
     "input": [
      "## save model"
     ],
     "language": "python",
     "metadata": {},
     "outputs": []
    },
    {
     "cell_type": "code",
     "collapsed": false,
     "input": [
      "## test\n"
     ],
     "language": "python",
     "metadata": {},
     "outputs": []
    }
   ],
   "metadata": {}
  }
 ]
}