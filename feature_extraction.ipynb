{
 "metadata": {
  "name": ""
 },
 "nbformat": 3,
 "nbformat_minor": 0,
 "worksheets": [
  {
   "cells": [
    {
     "cell_type": "code",
     "collapsed": false,
     "input": [
      "import os\n",
      "import htkmfc # downloaded form internet"
     ],
     "language": "python",
     "metadata": {},
     "outputs": [],
     "prompt_number": 1
    },
    {
     "cell_type": "code",
     "collapsed": false,
     "input": [
      "D = ['/home/james/data/wav/data_round_1/','/home/james/data/wav/data_round_2/','/home/james/data/wav/noise/']\n",
      "d2 = '/home/james/data/mfcc_all'\n",
      "conf = '../server/wav_confi'\n",
      "for d in D:\n",
      "    wavs = os.listdir(d)\n",
      "    \n",
      "    for i in wavs:\n",
      "        wavFile = os.path.join(d,i)\n",
      "        \n",
      "        mfcFile = os.path.join(d2,i.replace('.wav','.mfc'))\n",
      "        if os.path.isfile(mfcFile):\n",
      "            continue\n",
      "            \n",
      "#        wavFile2 = wavFile\n",
      "#        for rm in ['`','(',')']:\n",
      "#            ind = wavFile2.find(rm)\n",
      "#            #print wavFile[:ind].strip(), wavFile[ind+1:].strip()\n",
      "#            \n",
      "#            wavFile2 = wavFile2[:ind].strip()+wavFile2[ind+1:].strip()\n",
      "#        print wavFile, wavFile2\n",
      "        \n",
      "#        os.rename(wavFile,wavFile2)\n",
      "        #wavFile = wavFile2\n",
      "        os.system('HCopy -C %s %s %s'%(conf,wavFile,mfcFile))\n",
      "    print 'Dictionary %s --> %s'%(d,d2)\n",
      "        "
     ],
     "language": "python",
     "metadata": {},
     "outputs": [
      {
       "output_type": "stream",
       "stream": "stdout",
       "text": [
        "Dictionary /home/james/data/wav/data_round_1/ --> /home/james/data/mfcc_all\n",
        "Dictionary /home/james/data/wav/data_round_2/ --> /home/james/data/mfcc_all\n",
        "Dictionary /home/james/data/wav/noise/ --> /home/james/data/mfcc_all\n"
       ]
      }
     ],
     "prompt_number": 52
    },
    {
     "cell_type": "code",
     "collapsed": false,
     "input": [
      "os.(wavFile)"
     ],
     "language": "python",
     "metadata": {},
     "outputs": [
      {
       "metadata": {},
       "output_type": "pyout",
       "prompt_number": 43,
       "text": [
        "True"
       ]
      }
     ],
     "prompt_number": 43
    },
    {
     "cell_type": "code",
     "collapsed": false,
     "input": [],
     "language": "python",
     "metadata": {},
     "outputs": []
    },
    {
     "cell_type": "code",
     "collapsed": false,
     "input": [
      "def readHTK(f):\n",
      "    t = htkmfc.open(f)\n",
      "print t.getall()"
     ],
     "language": "python",
     "metadata": {},
     "outputs": [
      {
       "output_type": "stream",
       "stream": "stdout",
       "text": [
        "(3019, 39)\n"
       ]
      }
     ],
     "prompt_number": 50
    }
   ],
   "metadata": {}
  }
 ]
}