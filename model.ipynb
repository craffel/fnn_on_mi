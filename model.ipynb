{
 "metadata": {
  "name": ""
 },
 "nbformat": 3,
 "nbformat_minor": 0,
 "worksheets": [
  {
   "cells": [
    {
     "cell_type": "code",
     "collapsed": false,
     "input": [
      "from __future__ import print_function\n",
      "\n",
      "import sys\n",
      "import os\n",
      "import time\n",
      "\n",
      "import numpy as np\n",
      "import theano\n",
      "import theano.tensor as T\n",
      "\n",
      "import lasagne"
     ],
     "language": "python",
     "metadata": {},
     "outputs": [
      {
       "output_type": "stream",
       "stream": "stderr",
       "text": [
        "Using gpu device 0: GeForce GTX 960 (CNMeM is disabled)\n"
       ]
      }
     ],
     "prompt_number": 1
    },
    {
     "cell_type": "code",
     "collapsed": false,
     "input": [
      "## Setting\n",
      "\n",
      "# Number of units in the hidden (recurrent) layer\n",
      "N_HIDDEN = 10\n",
      "# Number of training sequences in each batch\n",
      "N_BATCH = 10\n",
      "# Optimization learning rate\n",
      "LEARNING_RATE = .001\n",
      "# All gradients above this will be clipped\n",
      "GRAD_CLIP = 100\n",
      "# How often should we check the output?\n",
      "EPOCH_SIZE = 1\n",
      "# Number of epochs to train the net\n",
      "NUM_EPOCHS = 100\n",
      "# Number of feature dimentions\n",
      "N_FEATURE_DIM = 39\n",
      "MAX_LENGTH = 5000"
     ],
     "language": "python",
     "metadata": {},
     "outputs": [],
     "prompt_number": 2
    },
    {
     "cell_type": "code",
     "collapsed": true,
     "input": [
      "def build_nn(model_file):\n",
      "    assert(os.path.splitext(model_file)[-1] == '.npz')\n",
      "    print(\"Building network ...\")\n",
      "    N_LSTM = 10\n",
      "    N_DENSE = 10\n",
      "    # First, we build the network, starting with an input layer\n",
      "    # Recurrent layers expect input of shape\n",
      "    # (batch size, max sequence length, number of features)\n",
      "    l_in = lasagne.layers.InputLayer(shape=(N_BATCH, MAX_LENGTH, N_FEATURE_DIM))\n",
      "    l_mask = lasagne.layers.InputLayer(shape=(N_BATCH, MAX_LENGTH))\n",
      "    \n",
      "    l_forward = lasagne.layers.LSTMLayer(l_in, N_LSTM, mask_input=l_mask,only_return_final=True)\n",
      "    \n",
      "    l_dense = lasagne.layers.DenseLayer(l_forward,num_units=N_DENSE)\n",
      "    \n",
      "    l_out = lasagne.layers.DenseLayer(\n",
      "        l_dense, num_units=6, nonlinearity=lasagne.nonlinearities.softmax)\n",
      "    \n",
      "    target_values = T.ivector('target_output')\n",
      "    \n",
      "    network_output = lasagne.layers.get_output(l_out)\n",
      "    \n",
      "    cost = lasagne.objectives.categorical_crossentropy(network_output,target_values)\n",
      "    cost = cost.mean()\n",
      "    # Retrieve all parameters from the network\n",
      "    all_params = lasagne.layers.get_all_params(l_out)\n",
      "    # Compute SGD updates for training\n",
      "    get_output = theano.function(\n",
      "        [l_in.input_var, l_mask.input_var], lasagne.layers.get_output(l_out, deterministic=True),allow_input_downcast=True)\n",
      "    # load model\n",
      "    with np.load(model_file) as f:\n",
      "        param_values = [f['arr_%d' % i] for i in range(len(f.files))]\n",
      "    lasagne.layers.set_all_param_values(l_out, param_values)\n",
      "    print(\"Building network ... DONE\")\n",
      "    return l_out,get_output"
     ],
     "language": "python",
     "metadata": {},
     "outputs": [],
     "prompt_number": 3
    },
    {
     "cell_type": "code",
     "collapsed": false,
     "input": [
      "reload( model)\n",
      "M = model.Model(label_index)\n",
      "M.compile()\n",
      "M.predict(x,m)\n",
      "M.compute_cost(x,y,m)\n",
      "M.update(x,y,m)\n",
      "M.predict(x,m)\n",
      "M.compute_cost(x,y,m)"
     ],
     "language": "python",
     "metadata": {},
     "outputs": [
      {
       "output_type": "stream",
       "stream": "stdout",
       "text": [
        "[[ 0.10759325  0.10990771  0.11315413 ...,  0.14378394  0.14706762\n",
        "   0.12552911]\n",
        " [ 0.1516608   0.10843058  0.15750273 ...,  0.1283197   0.13488819\n",
        "   0.09320316]\n",
        " [ 0.10872175  0.15151663  0.13334469 ...,  0.15302689  0.15850894\n",
        "   0.09485362]\n",
        " ..., \n",
        " [ 0.11670281  0.12083597  0.14441419 ...,  0.12801601  0.15729083\n",
        "   0.11136636]\n",
        " [ 0.10284719  0.1206452   0.15331133 ...,  0.132129    0.16458105\n",
        "   0.11157726]\n",
        " [ 0.10838441  0.10819464  0.16227609 ...,  0.13390227  0.16180953\n",
        "   0.10433376]]\n",
        "[[ 0.10836925  0.11033195  0.11382216 ...,  0.14468952  0.14850685\n",
        "   0.12381209]\n",
        " [ 0.15101862  0.10865565  0.15810867 ...,  0.12756871  0.13405025\n",
        "   0.09355839]\n",
        " [ 0.1163533   0.14395386  0.1444474  ...,  0.15010245  0.14577897\n",
        "   0.08817445]\n",
        " ..., \n",
        " [ 0.12105006  0.11973698  0.14635204 ...,  0.12711553  0.15375187\n",
        "   0.11024038]\n",
        " [ 0.10922761  0.12079163  0.15662871 ...,  0.13000984  0.15812112\n",
        "   0.11049131]\n",
        " [ 0.11298071  0.10820585  0.16311671 ...,  0.13206016  0.1577346\n",
        "   0.10374234]]"
       ]
      },
      {
       "output_type": "stream",
       "stream": "stdout",
       "text": [
        "\n"
       ]
      },
      {
       "metadata": {},
       "output_type": "pyout",
       "prompt_number": 23,
       "text": [
        "array(2.161559820175171, dtype=float32)"
       ]
      }
     ],
     "prompt_number": 23
    },
    {
     "cell_type": "code",
     "collapsed": false,
     "input": [
      "M.update(x,y,m)"
     ],
     "language": "python",
     "metadata": {},
     "outputs": [],
     "prompt_number": 29
    },
    {
     "cell_type": "code",
     "collapsed": false,
     "input": [
      "M.compute_cost(x,y,m)"
     ],
     "language": "python",
     "metadata": {},
     "outputs": [
      {
       "metadata": {},
       "output_type": "pyout",
       "prompt_number": 30,
       "text": [
        "array(2.1371424198150635, dtype=float32)"
       ]
      }
     ],
     "prompt_number": 30
    },
    {
     "cell_type": "code",
     "collapsed": false,
     "input": [
      "def format_data(func):\n",
      "    def wrapper(*args, **kw):\n",
      "        mfcc = np.array(func(*args,**kw))[2000:]\n",
      "        X = np.zeros(shape=(1, MAX_LENGTH, mfcc.shape[1]))\n",
      "        if mfcc.shape[0] > MAX_LENGTH:\n",
      "            X[0,:,:] = mfcc[:MAX_LENGTH]\n",
      "            return X, np.ones([1,MAX_LENGTH])\n",
      "        else:\n",
      "            X[0,0:mfcc.shape[0],:] = mfcc[:MAX_LENGTH]\n",
      "            return X, np.array([1]*mfcc.shape[0]+[0]*(MAX_LENGTH-mfcc.shape[0]))\n",
      "    return wrapper"
     ],
     "language": "python",
     "metadata": {},
     "outputs": [],
     "prompt_number": 19
    },
    {
     "cell_type": "code",
     "collapsed": false,
     "input": [
      "@format_data\n",
      "def readHTKfeat(dataPath):\n",
      "    data = np.array([[]])\n",
      "    flagDataStart = 0\n",
      "    nLine = 0\n",
      "    i = -1\n",
      "    for line in open(dataPath,'r'):\n",
      "        if line.find('END') != -1:\n",
      "            return data\n",
      "        if flagDataStart:\n",
      "            if nLine == 0:\n",
      "                dataLine = np.array([float(x) for x in line.split()[1:]])\n",
      "                nLine = nLine + 1\n",
      "                i = i+1\n",
      "                continue\n",
      "            elif nLine in [1,2]:\n",
      "                dataLine = np.concatenate((dataLine,[float(x) for x in line.split()]))    \n",
      "                nLine = nLine + 1\n",
      "                continue\n",
      "            elif nLine == 3:\n",
      "                dataLine = np.concatenate((dataLine,[float(x) for x in line.split()]))\n",
      "                data[i,:] = dataLine\n",
      "                nLine = 0\n",
      "                continue\n",
      "                \n",
      "        if line.find('------------------------------------ Samples: 0->-1 ------------------------------------') != -1:\n",
      "            flagDataStart = 1\n",
      "   \n",
      "        if line.find('Num Samples') != -1:\n",
      "            nSamples = int(line.split()[2])\n",
      "            data = np.ndarray(shape=(nSamples,N_FEATURE_DIM))\n",
      "            flagDataStart= 0\n",
      "\n",
      "    return data"
     ],
     "language": "python",
     "metadata": {},
     "outputs": [],
     "prompt_number": 5
    },
    {
     "cell_type": "code",
     "collapsed": false,
     "input": [
      "def read_from_list(f_list):\n",
      "    for iFile in f_list:\n",
      "        #print(iFile)\n",
      "        f = h5py.File(iFile.strip())\n",
      "        if 'X' not in locals():\n",
      "            X = f['data'][:,2000:5000:,:]\n",
      "            Y = f['label'][:]\n",
      "            mask = f['mask'][:,2000:5000:]\n",
      "        else:\n",
      "            X = np.concatenate((X,f['data'][:,2000:5000:,:]),axis=0).astype('float32')\n",
      "            Y = np.concatenate((Y,f['label'][:]),axis=0).astype('float32')\n",
      "            mask = np.concatenate((mask,f['mask'][:,2000:5000:]),axis=0).astype('float32')\n",
      "        f.close()\n",
      "    return (X,Y,mask)"
     ],
     "language": "python",
     "metadata": {},
     "outputs": [],
     "prompt_number": 6
    },
    {
     "cell_type": "code",
     "collapsed": false,
     "input": [
      "if __name__ == '__main__':\n",
      "    import time\n",
      "    import h5py\n",
      "    l_out,get_output = build_nn('models/trained_15_1.81667185837_1.82911217213_0.141463414634.npz')\n",
      "    lab = ['FN','BS','XQ','KX','JJ','HP','nobark']\n",
      "    testlist = 'exp/test.list'\n",
      "    with open(testlist,'r') as fid:\n",
      "        testf = fid.readlines()\n",
      "\n",
      "    x,y,m = read_from_list(testf)\n",
      "#    print(testf[0:1])\n",
      "#    x = x[0:1]\n",
      "#    y = y[0:1]\n",
      "#    m = m[0:1]\n",
      "#    testfile = '../data/MFCC/MFCC_E_D_A_txt/Chihuahua_male_1_holding_scary_20150928_123719.txt'\n",
      "    #mfcc\n",
      "    stime = time.time()\n",
      "#    x,m = readHTKfeat(testfile)\n",
      "    print(time.time() - stime)\n",
      "    print(x.shape,m.shape)\n",
      "    decision_value = get_output(x,m)\n",
      "    print(decision_value)\n",
      "    val_predictions = np.argmax(decision_value, axis=1)\n",
      "    print(time.time()-stime)\n",
      "    final_prediction = [lab[t] for t in val_predictions]\n",
      "    print(final_prediction)\n",
      "    print([lab[t] for t in y.astype('int32')])"
     ],
     "language": "python",
     "metadata": {},
     "outputs": [
      {
       "output_type": "stream",
       "stream": "stdout",
       "text": [
        "Building network ...\n",
        "Building network ... DONE"
       ]
      },
      {
       "output_type": "stream",
       "stream": "stdout",
       "text": [
        "\n",
        "2.14576721191e-06"
       ]
      },
      {
       "output_type": "stream",
       "stream": "stdout",
       "text": [
        "\n",
        "(205, 3000, 39) (205, 3000)\n",
        "[[ 0.14534315  0.11807641  0.16955249  0.2546348   0.12220483  0.19018836]\n",
        " [ 0.14865403  0.13375641  0.17538147  0.25812808  0.13354664  0.15053336]\n",
        " [ 0.24792486  0.07962665  0.22670573  0.12711224  0.12786676  0.19076377]\n",
        " ..., \n",
        " [ 0.14621386  0.11843522  0.11727074  0.09500909  0.35057852  0.17249261]\n",
        " [ 0.24302116  0.06831074  0.10927071  0.11626498  0.29634595  0.1667864 ]\n",
        " [ 0.1600578   0.13143404  0.16640334  0.23065552  0.15335669  0.15809269]]"
       ]
      },
      {
       "output_type": "stream",
       "stream": "stdout",
       "text": [
        "\n",
        "0.867572069168\n",
        "['KX', 'KX', 'FN', 'JJ', 'FN', 'HP', 'HP', 'KX', 'FN', 'KX', 'JJ', 'JJ', 'XQ', 'KX', 'XQ', 'KX', 'JJ', 'KX', 'HP', 'JJ', 'KX', 'JJ', 'HP', 'KX', 'KX', 'FN', 'FN', 'XQ', 'KX', 'JJ', 'FN', 'FN', 'JJ', 'FN', 'KX', 'FN', 'KX', 'FN', 'HP', 'FN', 'JJ', 'KX', 'FN', 'JJ', 'XQ', 'XQ', 'JJ', 'FN', 'JJ', 'FN', 'JJ', 'FN', 'XQ', 'KX', 'JJ', 'XQ', 'KX', 'JJ', 'FN', 'JJ', 'FN', 'JJ', 'FN', 'KX', 'KX', 'FN', 'FN', 'FN', 'FN', 'KX', 'FN', 'HP', 'HP', 'FN', 'FN', 'KX', 'JJ', 'HP', 'HP', 'JJ', 'KX', 'HP', 'KX', 'XQ', 'JJ', 'FN', 'FN', 'FN', 'JJ', 'FN', 'JJ', 'FN', 'FN', 'FN', 'JJ', 'KX', 'FN', 'HP', 'FN', 'JJ', 'XQ', 'FN', 'JJ', 'KX', 'JJ', 'FN', 'JJ', 'JJ', 'FN', 'JJ', 'JJ', 'FN', 'KX', 'JJ', 'JJ', 'FN', 'JJ', 'HP', 'JJ', 'XQ', 'KX', 'FN', 'XQ', 'JJ', 'FN', 'HP', 'HP', 'FN', 'JJ', 'FN', 'FN', 'KX', 'JJ', 'JJ', 'FN', 'JJ', 'XQ', 'XQ', 'KX', 'JJ', 'KX', 'JJ', 'JJ', 'FN', 'FN', 'JJ', 'KX', 'KX', 'FN', 'FN', 'KX', 'JJ', 'KX', 'JJ', 'JJ', 'FN', 'FN', 'XQ', 'HP', 'JJ', 'HP', 'FN', 'JJ', 'KX', 'FN', 'JJ', 'KX', 'JJ', 'KX', 'FN', 'FN', 'XQ', 'FN', 'JJ', 'FN', 'XQ', 'FN', 'HP', 'FN', 'KX', 'KX', 'FN', 'JJ', 'FN', 'KX', 'KX', 'KX', 'FN', 'FN', 'FN', 'JJ', 'JJ', 'KX', 'FN', 'KX', 'JJ', 'KX', 'FN', 'JJ', 'JJ', 'FN', 'HP', 'JJ', 'JJ', 'KX']\n",
        "['FN', 'FN', 'JJ', 'KX', 'FN', 'KX', 'FN', 'KX', 'FN', 'KX', 'JJ', 'XQ', 'KX', 'XQ', 'XQ', 'FN', 'JJ', 'JJ', 'BS', 'BS', 'HP', 'JJ', 'FN', 'BS', 'JJ', 'BS', 'FN', 'KX', 'KX', 'JJ', 'JJ', 'FN', 'XQ', 'FN', 'KX', 'XQ', 'FN', 'KX', 'BS', 'FN', 'KX', 'BS', 'JJ', 'BS', 'JJ', 'XQ', 'XQ', 'XQ', 'JJ', 'KX', 'JJ', 'HP', 'FN', 'FN', 'HP', 'HP', 'KX', 'XQ', 'BS', 'BS', 'XQ', 'FN', 'HP', 'KX', 'FN', 'JJ', 'XQ', 'FN', 'JJ', 'XQ', 'KX', 'JJ', 'XQ', 'JJ', 'XQ', 'JJ', 'FN', 'FN', 'FN', 'FN', 'BS', 'XQ', 'XQ', 'JJ', 'JJ', 'XQ', 'JJ', 'FN', 'HP', 'XQ', 'XQ', 'XQ', 'BS', 'BS', 'KX', 'HP', 'JJ', 'JJ', 'FN', 'JJ', 'KX', 'KX', 'FN', 'KX', 'HP', 'XQ', 'FN', 'KX', 'BS', 'HP', 'KX', 'JJ', 'JJ', 'JJ', 'HP', 'JJ', 'XQ', 'FN', 'JJ', 'KX', 'JJ', 'BS', 'XQ', 'FN', 'JJ', 'JJ', 'XQ', 'KX', 'XQ', 'FN', 'FN', 'JJ', 'BS', 'XQ', 'JJ', 'BS', 'XQ', 'KX', 'BS', 'FN', 'BS', 'JJ', 'BS', 'KX', 'XQ', 'KX', 'XQ', 'XQ', 'JJ', 'XQ', 'FN', 'HP', 'FN', 'XQ', 'JJ', 'XQ', 'XQ', 'XQ', 'BS', 'JJ', 'JJ', 'XQ', 'XQ', 'JJ', 'JJ', 'KX', 'KX', 'XQ', 'KX', 'XQ', 'BS', 'BS', 'JJ', 'HP', 'BS', 'BS', 'FN', 'JJ', 'XQ', 'BS', 'HP', 'BS', 'XQ', 'JJ', 'BS', 'XQ', 'XQ', 'XQ', 'KX', 'BS', 'KX', 'FN', 'HP', 'JJ', 'KX', 'JJ', 'XQ', 'BS', 'JJ', 'XQ', 'XQ', 'KX', 'KX', 'FN', 'XQ']\n"
       ]
      }
     ],
     "prompt_number": 9
    },
    {
     "cell_type": "code",
     "collapsed": false,
     "input": [],
     "language": "python",
     "metadata": {},
     "outputs": [
      {
       "ename": "NameError",
       "evalue": "global name 'stime' is not defined",
       "output_type": "pyerr",
       "traceback": [
        "\u001b[0;31m---------------------------------------------------------------------------\u001b[0m\n\u001b[0;31mNameError\u001b[0m                                 Traceback (most recent call last)",
        "\u001b[0;32m<ipython-input-20-eaadeee6cc1b>\u001b[0m in \u001b[0;36m<module>\u001b[0;34m()\u001b[0m\n\u001b[0;32m----> 1\u001b[0;31m \u001b[0mM\u001b[0m\u001b[0;34m.\u001b[0m\u001b[0mpredict\u001b[0m\u001b[0;34m(\u001b[0m\u001b[0mx\u001b[0m\u001b[0;34m,\u001b[0m\u001b[0mm\u001b[0m\u001b[0;34m)\u001b[0m\u001b[0;34m\u001b[0m\u001b[0m\n\u001b[0m",
        "\u001b[0;32m/home/james/experiments/model.py\u001b[0m in \u001b[0;36mpredict\u001b[0;34m(self, x, m)\u001b[0m\n\u001b[1;32m     95\u001b[0m         \u001b[0;32mprint\u001b[0m\u001b[0;34m(\u001b[0m\u001b[0mdecision_value\u001b[0m\u001b[0;34m)\u001b[0m\u001b[0;34m\u001b[0m\u001b[0m\n\u001b[1;32m     96\u001b[0m         \u001b[0mval_predictions\u001b[0m \u001b[0;34m=\u001b[0m \u001b[0mnp\u001b[0m\u001b[0;34m.\u001b[0m\u001b[0margmax\u001b[0m\u001b[0;34m(\u001b[0m\u001b[0mdecision_value\u001b[0m\u001b[0;34m,\u001b[0m \u001b[0maxis\u001b[0m\u001b[0;34m=\u001b[0m\u001b[0;36m1\u001b[0m\u001b[0;34m)\u001b[0m\u001b[0;34m\u001b[0m\u001b[0m\n\u001b[0;32m---> 97\u001b[0;31m         \u001b[0;32mprint\u001b[0m\u001b[0;34m(\u001b[0m\u001b[0mtime\u001b[0m\u001b[0;34m.\u001b[0m\u001b[0mtime\u001b[0m\u001b[0;34m(\u001b[0m\u001b[0;34m)\u001b[0m\u001b[0;34m-\u001b[0m\u001b[0mstime\u001b[0m\u001b[0;34m)\u001b[0m\u001b[0;34m\u001b[0m\u001b[0m\n\u001b[0m\u001b[1;32m     98\u001b[0m         \u001b[0mfinal_prediction\u001b[0m \u001b[0;34m=\u001b[0m \u001b[0;34m[\u001b[0m\u001b[0mself\u001b[0m\u001b[0;34m.\u001b[0m\u001b[0mlabel_index\u001b[0m\u001b[0;34m[\u001b[0m\u001b[0mt\u001b[0m\u001b[0;34m]\u001b[0m \u001b[0;32mfor\u001b[0m \u001b[0mt\u001b[0m \u001b[0;32min\u001b[0m \u001b[0mval_predictions\u001b[0m\u001b[0;34m]\u001b[0m\u001b[0;34m\u001b[0m\u001b[0m\n\u001b[1;32m     99\u001b[0m         \u001b[0;32mreturn\u001b[0m \u001b[0mfinal_prediction\u001b[0m\u001b[0;34m\u001b[0m\u001b[0m\n",
        "\u001b[0;31mNameError\u001b[0m: global name 'stime' is not defined"
       ]
      },
      {
       "output_type": "stream",
       "stream": "stdout",
       "text": [
        "[[ 0.10274775  0.16946101  0.13673624 ...,  0.12611854  0.09465048\n",
        "   0.12367997]\n",
        " [ 0.12142964  0.12769425  0.13450798 ...,  0.12411538  0.12617442\n",
        "   0.12619373]\n",
        " [ 0.0742986   0.07588057  0.09664795 ...,  0.18044958  0.11059748\n",
        "   0.15547052]\n",
        " ..., \n",
        " [ 0.12467241  0.12718573  0.13579029 ...,  0.11620264  0.11818282\n",
        "   0.12015049]\n",
        " [ 0.11848816  0.06630118  0.14807197 ...,  0.16188814  0.11929714\n",
        "   0.1356049 ]\n",
        " [ 0.10243931  0.10182307  0.15129824 ...,  0.13120244  0.11157199\n",
        "   0.14504716]]\n"
       ]
      }
     ],
     "prompt_number": 20
    }
   ],
   "metadata": {}
  }
 ]
}