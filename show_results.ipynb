{
 "cells": [
  {
   "cell_type": "markdown",
   "metadata": {},
   "source": [
    "<img src=\"sota.jpg\">"
   ]
  },
  {
   "cell_type": "markdown",
   "metadata": {},
   "source": [
    "|                                          | musk1norm | musk2norm | elephant | fox | tiger |\n",
    "|------------------------------------------|------------------|------------------|-------------------------|--------------------|----------------------|\n",
    "| layer_2_hidden_100_dropout_0.200000_adam | 0.84             | 0.803            | 0.85                    | 0.5305             | 0.7905               |\n",
    "| hidden_200                               | 0.874444         | 0.794            | 0.8525                  | 0.5125             | 0.7995               |\n",
    "| hidden_10                                | 0.836667         | 0.801            | 0.8455                  | 0.502              | 0.7965               |\n",
    "| hidden_100_dropout_0.500000_adam         | 0.832222         | 0.822            | 0.85                    | 0.525              | 0.7835               |\n",
    "| hidden_100_dropout_0.500000_nesterov     | 0.674444         | 0.802            | 0.7335                  | 0.497              | 0.7225               |\n",
    "| hidden_100                               | 0.848889         | 0.812            | 0.8545                  | 0.5255             | 0.8025               |\n",
    "| layer_2_hidden_100_dropout_0.500000_adam | 0.797778         | 0.794            | 0.8375                  | 0.527              | 0.7685               |"
   ]
  }
 ],
 "metadata": {
  "kernelspec": {
   "display_name": "Python 2",
   "language": "python",
   "name": "python2"
  },
  "language_info": {
   "codemirror_mode": {
    "name": "ipython",
    "version": 2
   },
   "file_extension": ".py",
   "mimetype": "text/x-python",
   "name": "python",
   "nbconvert_exporter": "python",
   "pygments_lexer": "ipython2",
   "version": "2.7.11"
  }
 },
 "nbformat": 4,
 "nbformat_minor": 0
}
