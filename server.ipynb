{
 "metadata": {
  "name": ""
 },
 "nbformat": 3,
 "nbformat_minor": 0,
 "worksheets": [
  {
   "cells": [
    {
     "cell_type": "code",
     "collapsed": false,
     "input": [
      "def tcplink(sock, addr):\n",
      "    print 'Accept new connection from %s:%s...' % addr\n",
      "    sock.send('Welcome!')\n",
      "    while True:\n",
      "        data = sock.recv(1024)\n",
      "        time.sleep(1)\n",
      "        if data == 'exit' or not data:\n",
      "            break\n",
      "        sock.send('Hello, %s!' % data)\n",
      "    sock.close()\n",
      "    print 'Connection from %s:%s closed.' % addr"
     ],
     "language": "python",
     "metadata": {},
     "outputs": [],
     "prompt_number": 1
    },
    {
     "cell_type": "code",
     "collapsed": false,
     "input": [
      "# \u5bfc\u5165socket\u5e93:\n",
      "import socket\n",
      "# \u521b\u5efa\u4e00\u4e2asocket:\n",
      "s = socket.socket(socket.AF_INET, socket.SOCK_STREAM)\n",
      "# \u76d1\u542c\u7aef\u53e3:\n",
      "s.bind(('', 9527))\n",
      "s.listen(5)\n",
      "print 'Waiting for connection...'\n",
      "while True:\n",
      "    # \u63a5\u53d7\u4e00\u4e2a\u65b0\u8fde\u63a5:\n",
      "    sock, addr = s.accept()\n",
      "    # \u521b\u5efa\u65b0\u7ebf\u7a0b\u6765\u5904\u7406TCP\u8fde\u63a5:\n",
      "    t = threading.Thread(target=tcplink, args=(sock, addr))\n",
      "    t.start()"
     ],
     "language": "python",
     "metadata": {},
     "outputs": [],
     "prompt_number": "*"
    },
    {
     "cell_type": "code",
     "collapsed": false,
     "input": [],
     "language": "python",
     "metadata": {},
     "outputs": []
    }
   ],
   "metadata": {}
  }
 ]
}